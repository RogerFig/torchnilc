{
 "cells": [
  {
   "cell_type": "markdown",
   "metadata": {},
   "source": [
    "# Redes Neurais\n",
    "\n",
    "## Criando uma rede neural\n",
    "\n",
    "A typical training procedure for a neural network is as follows:\n",
    "\n",
    "1. **Define the neural network that has some learnable parameters (or weights)**\n",
    "2. **Iterate over a dataset of inputs**\n",
    "3. **Process input through the network**\n",
    "4. **Compute the loss (how far is the output from being correct)**\n",
    "5. Propagate gradients back into the network’s parameters\n",
    "6. Update the weights of the network, typically using a simple update rule: weight = weight - lr * gradient\n",
    "\n",
    "Nós definimos manualmente um classificador linear, criando dois pesos (w_a e w_b) para serem aprendidos e atualizando eles com gradiente descendente manualmente. Agora vamos ver como o PyTorch nos oferece uma abstração em módulos, para nos preocupamos paenas com a definição da nossa rede neural (a nossa reta de antes)\n"
   ]
  },
  {
   "cell_type": "code",
   "execution_count": 1,
   "metadata": {},
   "outputs": [
    {
     "name": "stdout",
     "output_type": "stream",
     "text": [
      "Net(\n",
      "  (in_layer): Linear(in_features=4096, out_features=120, bias=True)\n",
      "  (out_layer): Linear(in_features=120, out_features=10, bias=True)\n",
      ")\n"
     ]
    }
   ],
   "source": [
    "import torch\n",
    "import torch.nn as nn\n",
    "\n",
    "\n",
    "# Se uma classe herda de nn.Module ela é considerada um módulo do pytorch\n",
    "\n",
    "class Net(nn.Module):  # uma MLP com uma hidden layer!\n",
    "\n",
    "    def __init__(self, num_features, hidden_size, nb_classes):\n",
    "        super(Net, self).__init__()\n",
    "        self.in_layer = nn.Linear(num_features, hidden_size)\n",
    "        self.out_layer = nn.Linear(hidden_size, nb_classes)\n",
    "\n",
    "    def forward(self, x):\n",
    "        # Max pooling over a (2, 2) window\n",
    "        x = self.in_layer(x)\n",
    "        x = torch.relu(x)\n",
    "        x = self.out_layer(x)\n",
    "        x = torch.sigmoid(x)\n",
    "        return x\n",
    "    \n",
    "#     def backward(self, x):\n",
    "#         #  não precisa implementar isso\n",
    "#         pass\n",
    "\n",
    "net = Net(64*64, 120, 10)\n",
    "print(net)"
   ]
  },
  {
   "cell_type": "markdown",
   "metadata": {},
   "source": [
    "Os parâmetros (pesos) que devem ser treinados para nossa rede (módulo) pode ser acessado com `.parameters()`"
   ]
  },
  {
   "cell_type": "code",
   "execution_count": 2,
   "metadata": {},
   "outputs": [
    {
     "name": "stdout",
     "output_type": "stream",
     "text": [
      "4\n",
      "torch.Size([120, 4096])\n"
     ]
    }
   ],
   "source": [
    "params = list(net.parameters())\n",
    "print(len(params))\n",
    "print(params[0].size())  # in_layer size"
   ]
  },
  {
   "cell_type": "markdown",
   "metadata": {},
   "source": [
    "Bora jogar uma entrada aleatória na rede, mesmo sem treinar, só pra ver o ue acontece"
   ]
  },
  {
   "cell_type": "code",
   "execution_count": 3,
   "metadata": {},
   "outputs": [
    {
     "name": "stdout",
     "output_type": "stream",
     "text": [
      "tensor([[0.5442, 0.5215, 0.5510, 0.4930, 0.4472, 0.6177, 0.5531, 0.4250, 0.5107,\n",
      "         0.5734]], grad_fn=<SigmoidBackward>)\n",
      "(tensor([0.6177], grad_fn=<MaxBackward0>), tensor([5]))\n"
     ]
    }
   ],
   "source": [
    "input = torch.randn(1, 64*64)  # primeira dim é o batch_size\n",
    "out = net(input)\n",
    "print(out)\n",
    "print(torch.max(out, dim=-1))"
   ]
  },
  {
   "cell_type": "markdown",
   "metadata": {},
   "source": [
    "## Função de custo\n",
    "\n",
    "Definir uma função de custo em pytorch é muito simples! As mais usadas na literatura já estão implementadas e basta chamar seu nome. Caso deseja criar uma nova, basta definir o `forward` e o resto será feito pelo pytorch! Vamos dar uma olhada nisso com exemplos"
   ]
  },
  {
   "cell_type": "code",
   "execution_count": 4,
   "metadata": {},
   "outputs": [],
   "source": [
    "output = net(input)\n",
    "target = torch.randn(10)  # a dummy target, for example\n",
    "target = target.view(1, -1)  # make it the same shape as output\n",
    "my_loss = nn.MSELoss()"
   ]
  },
  {
   "cell_type": "markdown",
   "metadata": {},
   "source": [
    "lista completa de todas as losses: \n",
    "https://pytorch.org/docs/stable/nn.html#loss-functions"
   ]
  },
  {
   "cell_type": "code",
   "execution_count": 5,
   "metadata": {},
   "outputs": [
    {
     "data": {
      "text/plain": [
       "tensor(0.8440, grad_fn=<MseLossBackward>)"
      ]
     },
     "execution_count": 5,
     "metadata": {},
     "output_type": "execute_result"
    }
   ],
   "source": [
    "loss = my_loss(output, target)\n",
    "loss"
   ]
  },
  {
   "cell_type": "markdown",
   "metadata": {},
   "source": [
    "Se seguir o backprop pra loss, veremos que o grafo será o seguinte:\n",
    "\n",
    "input -> linear -> relu -> linear -> sigmoid\n",
    "      -> MSELoss\n",
    "      -> loss"
   ]
  },
  {
   "cell_type": "markdown",
   "metadata": {},
   "source": [
    "Backpropagation agora é como anteriormente! Só chamar loss.backward()"
   ]
  },
  {
   "cell_type": "code",
   "execution_count": 6,
   "metadata": {},
   "outputs": [
    {
     "name": "stdout",
     "output_type": "stream",
     "text": [
      "in_layer.bias.grad before backward\n",
      "None\n",
      "in_layer.bias.grad after backward\n",
      "tensor([ 1.2219e-02, -1.9659e-05,  0.0000e+00,  6.9967e-03,  6.0378e-03,\n",
      "         4.3230e-03,  2.2502e-03,  0.0000e+00,  2.2966e-03, -5.4992e-03,\n",
      "         0.0000e+00,  0.0000e+00, -2.8742e-03,  6.0687e-03,  0.0000e+00,\n",
      "         0.0000e+00,  0.0000e+00,  0.0000e+00, -3.0687e-03,  9.0070e-03,\n",
      "        -1.3563e-03,  2.4511e-03,  6.2430e-03,  0.0000e+00,  0.0000e+00,\n",
      "        -8.8887e-03,  0.0000e+00,  0.0000e+00,  1.3174e-02, -6.2736e-03,\n",
      "         0.0000e+00,  8.3735e-03,  0.0000e+00,  1.8505e-03,  1.4167e-02,\n",
      "         0.0000e+00, -1.1964e-02,  0.0000e+00,  0.0000e+00,  0.0000e+00,\n",
      "         0.0000e+00,  0.0000e+00, -1.7655e-03,  6.8359e-03,  8.7744e-03,\n",
      "        -4.2429e-03,  0.0000e+00,  0.0000e+00, -9.3655e-06, -9.4452e-03,\n",
      "         0.0000e+00,  0.0000e+00,  0.0000e+00, -2.5224e-03,  0.0000e+00,\n",
      "         0.0000e+00,  0.0000e+00, -1.2378e-02,  0.0000e+00,  5.8981e-03,\n",
      "        -9.1476e-05,  1.0832e-02,  0.0000e+00,  0.0000e+00,  0.0000e+00,\n",
      "        -9.6718e-03, -7.0335e-03,  0.0000e+00,  0.0000e+00, -7.2643e-04,\n",
      "        -9.0502e-03,  0.0000e+00,  0.0000e+00,  2.5954e-03,  0.0000e+00,\n",
      "         0.0000e+00, -1.9047e-03,  2.0703e-02,  0.0000e+00, -9.5092e-03,\n",
      "         8.7849e-04,  1.2867e-02, -2.0309e-03,  7.5934e-03, -2.0303e-03,\n",
      "         2.8622e-03, -1.4426e-02, -1.0234e-02, -7.9995e-03,  1.5266e-02,\n",
      "         9.0382e-03,  0.0000e+00,  0.0000e+00,  0.0000e+00,  0.0000e+00,\n",
      "         1.4497e-02,  0.0000e+00,  1.1601e-02, -1.3656e-03, -6.7097e-03,\n",
      "         0.0000e+00,  0.0000e+00,  8.9560e-03,  0.0000e+00, -8.9853e-03,\n",
      "         1.5731e-03,  0.0000e+00, -9.6428e-03,  4.8407e-03, -7.3834e-03,\n",
      "         5.8070e-03, -9.3564e-03,  0.0000e+00, -2.4470e-03,  0.0000e+00,\n",
      "        -6.9417e-03,  0.0000e+00,  4.9930e-03,  1.1595e-02,  0.0000e+00])\n"
     ]
    }
   ],
   "source": [
    "net.zero_grad()     # zeroes the gradient buffers of all parameters\n",
    "\n",
    "print('in_layer.bias.grad before backward')\n",
    "print(net.in_layer.bias.grad)\n",
    "\n",
    "loss.backward()\n",
    "\n",
    "print('in_layer.bias.grad after backward')\n",
    "print(net.in_layer.bias.grad)"
   ]
  },
  {
   "cell_type": "markdown",
   "metadata": {},
   "source": [
    "## Atualizando os pesos (Optimizer)\n",
    "\n",
    "Na nossa regressão linear estavamos atualizando os pesos com a famosa regra \"delta\"\n",
    "\n",
    "    wi = wi - lr*wprev \n",
    "\n",
    "Mas existe uma gama de algoritmos que procuram atualizar os pesos de uma forma mais inteligente:\n",
    "\n",
    "<img src=\"http://cs231n.github.io/assets/nn3/opt2.gif\" width=\"45%\" style=\"float:left;\" />\n",
    "<img src=\"http://cs231n.github.io/assets/nn3/opt1.gif\" width=\"45%\" style=\"float:left;\" />"
   ]
  },
  {
   "cell_type": "code",
   "execution_count": 7,
   "metadata": {},
   "outputs": [],
   "source": [
    "# regra delta manualmente:\n",
    "learning_rate = 0.01\n",
    "for f in net.parameters():\n",
    "    f.data.sub_(f.grad.data * learning_rate)"
   ]
  },
  {
   "cell_type": "code",
   "execution_count": 9,
   "metadata": {},
   "outputs": [],
   "source": [
    "import torch.optim as optim\n",
    "\n",
    "# create your optimizer\n",
    "optimizer = optim.SGD(net.parameters(), lr=0.01)\n",
    "\n",
    "# in your training loop:\n",
    "optimizer.zero_grad()   # zero the gradient buffers\n",
    "output = net(input)\n",
    "loss = my_loss(output, target)\n",
    "loss.backward()\n",
    "optimizer.step()    # Does the update"
   ]
  },
  {
   "cell_type": "markdown",
   "metadata": {},
   "source": [
    "## Treinamento\n",
    "\n",
    "Basta seguir o passo acima por um número de épocas!"
   ]
  },
  {
   "cell_type": "code",
   "execution_count": 13,
   "metadata": {},
   "outputs": [
    {
     "name": "stdout",
     "output_type": "stream",
     "text": [
      "Acc:  0.1\n"
     ]
    }
   ],
   "source": [
    "my_loss = nn.MSELoss()\n",
    "optimizer = optim.SGD(net.parameters(), lr=0.01)  # olha a documentação os outros parâmetros que cada optimizer tem!\n",
    "dataset = []\n",
    "  \n",
    "for _ in range(10):\n",
    "    input = torch.randn(1, 64*64) # random input\n",
    "    target = torch.randn(10).view(1, -1) # a dummy target, for example and make it the same shape as output\n",
    "    dataset.append((input, target))\n",
    "\n",
    "for epoch in range(100):\n",
    "    for input, target in dataset:\n",
    "        output = net(input)\n",
    "        loss = my_loss(output, target)\n",
    "        loss.backward()\n",
    "        optimizer.step()    \n",
    "        \n",
    "with torch.no_grad():\n",
    "    c = 0\n",
    "    for input, target in dataset:\n",
    "        output = net(input)\n",
    "        if torch.argmax(output) == torch.argmax(target):\n",
    "            c += 1\n",
    "    print('Acc: ', c/len(dataset))"
   ]
  }
 ],
 "metadata": {
  "kernelspec": {
   "display_name": "Python 3",
   "language": "python",
   "name": "python3"
  },
  "language_info": {
   "codemirror_mode": {
    "name": "ipython",
    "version": 3
   },
   "file_extension": ".py",
   "mimetype": "text/x-python",
   "name": "python",
   "nbconvert_exporter": "python",
   "pygments_lexer": "ipython3",
   "version": "3.6.7"
  }
 },
 "nbformat": 4,
 "nbformat_minor": 2
}
