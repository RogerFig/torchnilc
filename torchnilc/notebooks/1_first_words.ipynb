{
 "cells": [
  {
   "cell_type": "markdown",
   "metadata": {
    "collapsed": true
   },
   "source": [
    "# First words\n",
    "\n",
    "*news: O facebook (yep) recém lançou oficialmente a versão 1.0 (stable) do PyTorch!* Veja mais em:\n",
    "https://pytorch.org/\n",
    "\n",
    "Para instalar o pytorch de modo seguro, sem mexer com nossas instalações locais, vamos criar uma virtualenv. E para isso vamos utilizar o pipenv. \n",
    "\n",
    "O pipenv é uma ferramenta que junta automaticamente o pip com virtualenv. Ele é bom pois mantém as dependências dos pacotes de instalação de maneira segura utilizando um mecanismo de \"lock\". No nosso caso não vamos precisar desse mecanismo (que é lento). Portanto, para começar basta rodar os comandos baiaxo:\n",
    "\n",
    "Clone o seguinte repositório:\n",
    "\n",
    "```bash\n",
    "git clone https://github.com/mtreviso/torchnilc.git\n",
    "cd torchnilc\n",
    "```\n",
    "\n",
    "E instale as dependências para usarmos os notebooks numa virtual env:\n",
    "\n",
    "\n",
    "```bash\n",
    "pip3 install pipenv  # instalar pipenv\n",
    "pipenv install --skip-lock  # instalar as dependências e criar a venv (ignorando mecanismo de lock)\n",
    "pipenv shell  # ativar a venv\n",
    "```\n",
    "\n",
    "\n",
    "Agora basta rodar o jupyter com:\n",
    "\n",
    "```bash\n",
    "jupyter-notebook\n",
    "```"
   ]
  },
  {
   "cell_type": "markdown",
   "metadata": {},
   "source": [
    "## Como funciona este minicurso/workshop/intensivo?\n",
    "\n",
    "#### Como não funciona (¬¬)\n",
    "\n",
    "- O objetivo disso tudo não é mostrar a teoria por trás de machine learning, redes neurais, etc. \n",
    "- E também não é apenas mostrar com notebooks como o pytorch funciona - como escolas de verão e cursos de DL por aí.\n",
    "- E também não é entrar em profundidade em tarefas de PLN.\n",
    "\n",
    "---\n",
    "#### Mas é\n",
    "\n",
    "- Implementar, na prática, os funcionamentos básicos do pytorch. \n",
    "- Progedir em etapas, de modo a criarmos uma **biblioteca** python para analisar sentimentos em tweets. \n",
    "- BÔNUS: caso der tempo, irei mostrar como implementar um tradutor automático pt-en e en-pt usando essa nossa biblioteca com poucas linhas de códigos a mais. \n",
    "\n",
    "---\n",
    "\n",
    "#### Tempo\n",
    "\n",
    "Dá pra fazer tudo isso em um dia? Não sei! Veremos até onde conseguimos ir. Qualquer coisa pensamos em alguma solução."
   ]
  },
  {
   "cell_type": "markdown",
   "metadata": {},
   "source": [
    "## O que vamos ver?\n",
    "\n",
    "\n",
    "1. PyTorch\n",
    "    - O que é o PyTorch?\n",
    "    - Semelhança com o numpy\n",
    "    - Programando com tensores\n",
    "    - Autograd: diferenciação automática\n",
    "    - Exemplo: implementando um classificador baseado em retas (ou polinômios maiores)!\n",
    "\n",
    "\n",
    "2. Redes neurais\n",
    "    - Criando uma rede neural\n",
    "    - Função de custo\n",
    "    - Optimizer\n",
    "    - Treinamento (forward -> backprop -> update weights)\n",
    "\n",
    "\n",
    "3. NLP\n",
    "    - Classificando documentos com bag of words\n",
    "    - Modelando a língua com a bíblia sagrada\n",
    "    - Implementando word2vec: cbow e skipgram\n",
    "    \n",
    "\n",
    "4. Analisador de sentimentos\n",
    "    - A bib torchtext\n",
    "    - Load do TTsBR\n",
    "    - Criando nosso próprio classificador\n",
    "    - Usando embeddings do nilc\n",
    "    - Treinando o modelo em batchs\n",
    "\n",
    "\n",
    "5. Tradutor automático\n",
    "    - Load dos dados\n",
    "    - Modelo Seq2Seq\n",
    "    - Adicionando Attention\n",
    "    - Treinamento e inferência\n"
   ]
  }
 ],
 "metadata": {
  "kernelspec": {
   "display_name": "Python 3",
   "language": "python",
   "name": "python3"
  },
  "language_info": {
   "codemirror_mode": {
    "name": "ipython",
    "version": 3
   },
   "file_extension": ".py",
   "mimetype": "text/x-python",
   "name": "python",
   "nbconvert_exporter": "python",
   "pygments_lexer": "ipython3",
   "version": "3.6.7"
  }
 },
 "nbformat": 4,
 "nbformat_minor": 1
}
