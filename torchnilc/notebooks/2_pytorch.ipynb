{
 "cells": [
  {
   "cell_type": "markdown",
   "metadata": {},
   "source": [
    "# PyTorch"
   ]
  },
  {
   "cell_type": "markdown",
   "metadata": {},
   "source": [
    "## 1.1. O que é o PyTorch? \n",
    "\n",
    "It’s a Python-based scientific computing package targeted at two sets of audiences (released in January 2016):\n",
    "\n",
    "- A replacement for NumPy to use the power of GPUs\n",
    "- A deep learning research platform that provides maximum flexibility and speed\n",
    "\n",
    "O Pytorch oferece uma série de recursos para criar/treinar/testar/analizar redes neurais de forma **eficiente**:\n",
    "- Camadas (Embeddings, Linear, LSTM, Convolucional, MaxPooling, ...)\n",
    "- Otimizadores (SGD, SGD com Momentum, RMSProp, Adam, ...)\n",
    "- Funções de custo (CrossEntropy, LogLoss, LogSoftmax, ...)\n",
    "- Funções de ativação (relu, tanh, sigmoid, selu, ...)\n",
    "- Diferenciação automática com acumulação de gradientes\n",
    "- Implementação eficiente com tensores!\n",
    "\n",
    "Existe outros frameworks para trabalhar com redes neurais: \n",
    "- tensorflow\n",
    "- mxnet\n",
    "- caffee\n",
    "- flux\n",
    "- chainer\n",
    "- keras\n",
    "- dl4j\n",
    "- etc\n",
    "    \n",
    "Cada um tem seu ponto forte. Por que escolher o PyTorch? \n",
    "- Mais intuitivo que o tf\n",
    "- Grafos dinâmicos!\n",
    "\n",
    "More info: http://pytorch.org/"
   ]
  },
  {
   "cell_type": "markdown",
   "metadata": {},
   "source": [
    "## 1.2 Semelhança com o numpy\n",
    "\n",
    "O PyTorch foi desenhado para ser *pythonico*, assim como o numpy. A estrutura base do Pytorch é um tensor, que nada mais é que um array com mais de duas dimensões. Trabalhar com as duas bibliotecas ao mesmo tempo é surpreendentemente simples.\n",
    "\n",
    "Além disso, assim como o numpy, o PyTorch está muito mais perto de ser uma biblioteca do que um framework (tf)! "
   ]
  },
  {
   "cell_type": "markdown",
   "metadata": {},
   "source": [
    "## 1.3 Programando com tensores\n",
    "\n",
    "Tensores são como arrays do numpy. \n",
    "\n",
    "Mais em: https://pytorch.org/tutorials/beginner/blitz/tensor_tutorial.html#tensors\n",
    "\n",
    "E tudo sobre tensores em: https://pytorch.org/docs/stable/torch.html"
   ]
  },
  {
   "cell_type": "code",
   "execution_count": null,
   "metadata": {},
   "outputs": [],
   "source": [
    "import torch\n",
    "import numpy as np"
   ]
  },
  {
   "cell_type": "code",
   "execution_count": null,
   "metadata": {},
   "outputs": [],
   "source": [
    "# Inicializa uma matrix 5x3 vazia\n",
    "x = torch.empty(5, 3)\n",
    "x_numpy = np.empty((5, 3))\n",
    "print(x)\n",
    "print(x_numpy)"
   ]
  },
  {
   "cell_type": "code",
   "execution_count": null,
   "metadata": {},
   "outputs": [],
   "source": [
    "# Inicializa uma matrix 5x3 aleatoriamente\n",
    "x = torch.rand(5, 3)\n",
    "x_numpy = np.random.random((5, 3))\n",
    "print(x)\n",
    "print(x_numpy)"
   ]
  },
  {
   "cell_type": "code",
   "execution_count": null,
   "metadata": {},
   "outputs": [],
   "source": [
    "# Construct a matrix filled zeros and of dtype long:\n",
    "x = torch.zeros(5, 3, dtype=torch.long)\n",
    "x_numpy = np.zeros((5, 3), dtype=np.int)\n",
    "print(x)\n",
    "print(x_numpy)"
   ]
  },
  {
   "cell_type": "code",
   "execution_count": null,
   "metadata": {},
   "outputs": [],
   "source": [
    "# Construct a tensor directly from data (como usando numpy):\n",
    "x = torch.tensor([5.5, 3])\n",
    "x_numpy = np.array([5.5, 3])\n",
    "print(x)\n",
    "print(x_numpy)"
   ]
  },
  {
   "cell_type": "code",
   "execution_count": null,
   "metadata": {},
   "outputs": [],
   "source": [
    "# shape ou size\n",
    "x = torch.zeros(5,3)\n",
    "print(x.size())\n",
    "print(x.shape)\n",
    "print(x.size(1), x.shape[1])"
   ]
  },
  {
   "cell_type": "markdown",
   "metadata": {},
   "source": [
    "### Podemos fazer operações"
   ]
  },
  {
   "cell_type": "code",
   "execution_count": null,
   "metadata": {},
   "outputs": [],
   "source": [
    "y = torch.rand(5, 3)\n",
    "x + y"
   ]
  },
  {
   "cell_type": "code",
   "execution_count": null,
   "metadata": {
    "scrolled": true
   },
   "outputs": [],
   "source": [
    "x - y"
   ]
  },
  {
   "cell_type": "code",
   "execution_count": null,
   "metadata": {},
   "outputs": [],
   "source": [
    "x * y"
   ]
  },
  {
   "cell_type": "code",
   "execution_count": null,
   "metadata": {},
   "outputs": [],
   "source": [
    "# Ou \n",
    "result = torch.empty(5, 3)\n",
    "torch.add(x, y, out=result)\n",
    "print(result)"
   ]
  },
  {
   "cell_type": "code",
   "execution_count": null,
   "metadata": {},
   "outputs": [],
   "source": [
    "# adds y to x inplace (observe o _ depois do add -> sempre que tiver _ no fim significa inplace)\n",
    "x.add_(y)\n",
    "print(x)"
   ]
  },
  {
   "cell_type": "code",
   "execution_count": null,
   "metadata": {},
   "outputs": [],
   "source": [
    "x.t()"
   ]
  },
  {
   "cell_type": "code",
   "execution_count": null,
   "metadata": {},
   "outputs": [],
   "source": [
    "x.t_()"
   ]
  },
  {
   "cell_type": "code",
   "execution_count": null,
   "metadata": {},
   "outputs": [],
   "source": [
    "x.shape"
   ]
  },
  {
   "cell_type": "code",
   "execution_count": null,
   "metadata": {},
   "outputs": [],
   "source": [
    "# Slicing como no numpy\n",
    "x[:, 1]"
   ]
  },
  {
   "cell_type": "code",
   "execution_count": null,
   "metadata": {},
   "outputs": [],
   "source": [
    "# resizing - como o np.reshape\n",
    "x = torch.randn(4, 4)\n",
    "y = x.view(16)\n",
    "z = x.view(-1, 8)  # the size -1 is inferred from other dimensions\n",
    "print(x.size(), y.size(), z.size())"
   ]
  },
  {
   "cell_type": "code",
   "execution_count": null,
   "metadata": {},
   "outputs": [],
   "source": [
    "w = torch.randn(1)\n",
    "print(w)"
   ]
  },
  {
   "cell_type": "code",
   "execution_count": null,
   "metadata": {},
   "outputs": [],
   "source": [
    "w.item(), x[0][0], x[0][0].item()"
   ]
  },
  {
   "cell_type": "code",
   "execution_count": null,
   "metadata": {},
   "outputs": [],
   "source": [
    "# com numpy\n",
    "x_np = np.random.randn(2,2).astype('f')\n",
    "x_torch = torch.randn(2,2)\n",
    "print(x_np)\n",
    "print(x_torch)"
   ]
  },
  {
   "cell_type": "code",
   "execution_count": null,
   "metadata": {},
   "outputs": [],
   "source": [
    "np.add(x_np, x_torch.numpy())"
   ]
  },
  {
   "cell_type": "code",
   "execution_count": null,
   "metadata": {},
   "outputs": [],
   "source": [
    "torch.add(torch.from_numpy(x_np), x_torch)"
   ]
  },
  {
   "cell_type": "markdown",
   "metadata": {},
   "source": [
    "### E pra usar GPU?\n",
    "\n",
    "Simples! Só mover tensores pra um dispositivo com suporte a CUDA!"
   ]
  },
  {
   "cell_type": "code",
   "execution_count": null,
   "metadata": {},
   "outputs": [],
   "source": [
    "# let us run this cell only if CUDA is available\n",
    "# We will use ``torch.device`` objects to move tensors in and out of GPU\n",
    "if torch.cuda.is_available():\n",
    "    device = torch.device(\"cuda\")          # a CUDA device object\n",
    "    y = torch.ones_like(x, device=device)  # directly create a tensor on GPU\n",
    "    x = x.to(device)                       # or just use strings ``.to(\"cuda\")``\n",
    "    z = x + y\n",
    "    print(z)\n",
    "    print(z.to(\"cpu\", torch.double))       # ``.to`` can also change dtype together!"
   ]
  },
  {
   "cell_type": "markdown",
   "metadata": {},
   "source": [
    "### Operações mais sofisticadinhas"
   ]
  },
  {
   "cell_type": "code",
   "execution_count": null,
   "metadata": {},
   "outputs": [],
   "source": [
    "x.shape, y.shape"
   ]
  },
  {
   "cell_type": "code",
   "execution_count": null,
   "metadata": {},
   "outputs": [],
   "source": [
    "x, y"
   ]
  },
  {
   "cell_type": "code",
   "execution_count": null,
   "metadata": {},
   "outputs": [],
   "source": [
    "x.dot(y) # dot é para vetores, quando trabalhamos com matriz 2D+ usamos matmul"
   ]
  },
  {
   "cell_type": "code",
   "execution_count": null,
   "metadata": {},
   "outputs": [],
   "source": [
    "x.matmul(y)"
   ]
  },
  {
   "cell_type": "code",
   "execution_count": null,
   "metadata": {},
   "outputs": [],
   "source": [
    "# teste aqui com matrizes com mais de 2 dims"
   ]
  },
  {
   "cell_type": "markdown",
   "metadata": {},
   "source": [
    "### Broadcasting"
   ]
  },
  {
   "cell_type": "code",
   "execution_count": null,
   "metadata": {},
   "outputs": [],
   "source": [
    "m = torch.rand(5, 4)\n",
    "v = torch.arange(4, dtype=torch.float)"
   ]
  },
  {
   "cell_type": "code",
   "execution_count": null,
   "metadata": {},
   "outputs": [],
   "source": [
    "m, m.shape"
   ]
  },
  {
   "cell_type": "code",
   "execution_count": null,
   "metadata": {},
   "outputs": [],
   "source": [
    "v, v.shape"
   ]
  },
  {
   "cell_type": "code",
   "execution_count": null,
   "metadata": {},
   "outputs": [],
   "source": [
    "m + v"
   ]
  },
  {
   "cell_type": "code",
   "execution_count": null,
   "metadata": {},
   "outputs": [],
   "source": [
    "v = v.view(2,2)\n",
    "v, v.shape"
   ]
  },
  {
   "cell_type": "code",
   "execution_count": null,
   "metadata": {},
   "outputs": [],
   "source": [
    "v = v.view(4,1)\n",
    "v, v.shape"
   ]
  },
  {
   "cell_type": "code",
   "execution_count": null,
   "metadata": {},
   "outputs": [],
   "source": [
    "# Note that shape [4, 1] is not broadcastable to match [5, 4]!\n",
    "m + v"
   ]
  },
  {
   "cell_type": "code",
   "execution_count": null,
   "metadata": {},
   "outputs": [],
   "source": [
    "v = v.view(1, 4)\n",
    "v, v.shape"
   ]
  },
  {
   "cell_type": "code",
   "execution_count": null,
   "metadata": {},
   "outputs": [],
   "source": [
    "m + v"
   ]
  },
  {
   "cell_type": "markdown",
   "metadata": {},
   "source": [
    "### Funções úteis"
   ]
  },
  {
   "cell_type": "code",
   "execution_count": null,
   "metadata": {},
   "outputs": [],
   "source": [
    "# !pipenv install --skip-lock matplotlib\n",
    "from matplotlib import pyplot as plt"
   ]
  },
  {
   "cell_type": "code",
   "execution_count": null,
   "metadata": {},
   "outputs": [],
   "source": [
    "!ls"
   ]
  },
  {
   "cell_type": "code",
   "execution_count": null,
   "metadata": {},
   "outputs": [],
   "source": [
    "x = torch.arange(-10, 10, 0.1, dtype=torch.float)\n",
    "x, x.shape"
   ]
  },
  {
   "cell_type": "code",
   "execution_count": null,
   "metadata": {},
   "outputs": [],
   "source": [
    "y = x.sin()\n",
    "plt.plot(x.numpy(), y.numpy(), '.')"
   ]
  },
  {
   "cell_type": "code",
   "execution_count": null,
   "metadata": {},
   "outputs": [],
   "source": [
    "# softmax\n",
    "e = torch.exp(x)\n",
    "softmax = e / e.sum()\n",
    "plt.plot(x.numpy(), softmax.numpy(), '.')"
   ]
  },
  {
   "cell_type": "code",
   "execution_count": null,
   "metadata": {},
   "outputs": [],
   "source": [
    "# softmax com pytorch\n",
    "y = torch.softmax(x, dim=0)\n",
    "plt.plot(x.numpy(), y.numpy(), '.')"
   ]
  },
  {
   "cell_type": "code",
   "execution_count": null,
   "metadata": {},
   "outputs": [],
   "source": [
    "# bora ver outro x\n",
    "x = torch.randn([100])\n",
    "x, x.shape"
   ]
  },
  {
   "cell_type": "code",
   "execution_count": null,
   "metadata": {},
   "outputs": [],
   "source": [
    "y = torch.softmax(x, dim=0)\n",
    "y"
   ]
  },
  {
   "cell_type": "code",
   "execution_count": null,
   "metadata": {},
   "outputs": [],
   "source": [
    "plt.plot(x.numpy(), y.numpy(), '.')"
   ]
  },
  {
   "cell_type": "code",
   "execution_count": null,
   "metadata": {},
   "outputs": [],
   "source": [
    "plt.plot(np.arange(x.shape[0]), y.numpy(), '.')"
   ]
  },
  {
   "cell_type": "code",
   "execution_count": null,
   "metadata": {},
   "outputs": [],
   "source": [
    "torch.min(x, dim=0)"
   ]
  },
  {
   "cell_type": "code",
   "execution_count": null,
   "metadata": {
    "scrolled": true
   },
   "outputs": [],
   "source": [
    "torch.max(x, dim=0)"
   ]
  },
  {
   "cell_type": "markdown",
   "metadata": {},
   "source": [
    "## 1.4. Autograd - diferenciação automática"
   ]
  },
  {
   "cell_type": "markdown",
   "metadata": {},
   "source": [
    "O PyTorch tem um módulo chamado autograd (`torch.autograd`) que está por trás de todas as redes neurais. Ele é responsável por calcular automaticamente a derivada da função de custo em relação aos pesos e nos retornar os gradientes.\n",
    "\n",
    "Ele realiza diferenciação automática para todas operações sobre tensores (`transpose, add, matmul`, etc). É definido no momento de execução, isso significa que o backpropagation é definido pelo modo como seu código é executado, e a cada iteração pode ser diferente."
   ]
  },
  {
   "cell_type": "markdown",
   "metadata": {},
   "source": [
    "`torch.Tensor` é a classe central do pacote.\n",
    "\n",
    "- `x.requires_grad=True`: Mantém um histórico de operações para o tensor x.\n",
    "- `x.backward()`: Quando finalizar suas operações, chama backward() e esse método vai calcular todos os gradientes\n",
    "- `x.grad`: Os gradientes vão ser acumulados nesse atributo\n",
    "- `x.detach()`: Tira x do grafo de computação -> faz o torch parar de manter um histórico pra esse tensor\n",
    "- `x.grad_fn`: Referencia a Function que criou esse tensor\n",
    "- `with torch.no_grad():` Tudo que estiver dentro do with não será mantido um histórico dos gradientes (bom para quando queremos apenas avaliar modelos)\n"
   ]
  },
  {
   "cell_type": "code",
   "execution_count": 159,
   "metadata": {},
   "outputs": [
    {
     "data": {
      "text/plain": [
       "tensor([[1., 1.],\n",
       "        [1., 1.]], requires_grad=True)"
      ]
     },
     "execution_count": 159,
     "metadata": {},
     "output_type": "execute_result"
    }
   ],
   "source": [
    "x = torch.ones(2, 2, requires_grad=True)\n",
    "x"
   ]
  },
  {
   "cell_type": "code",
   "execution_count": 162,
   "metadata": {},
   "outputs": [
    {
     "data": {
      "text/plain": [
       "(None, None)"
      ]
     },
     "execution_count": 162,
     "metadata": {},
     "output_type": "execute_result"
    }
   ],
   "source": [
    "x.grad, x.grad_fn"
   ]
  },
  {
   "cell_type": "code",
   "execution_count": 163,
   "metadata": {},
   "outputs": [
    {
     "data": {
      "text/plain": [
       "tensor([[3., 3.],\n",
       "        [3., 3.]], grad_fn=<AddBackward>)"
      ]
     },
     "execution_count": 163,
     "metadata": {},
     "output_type": "execute_result"
    }
   ],
   "source": [
    "y = x + 2\n",
    "y"
   ]
  },
  {
   "cell_type": "code",
   "execution_count": 164,
   "metadata": {},
   "outputs": [
    {
     "data": {
      "text/plain": [
       "(True, None, <AddBackward at 0x7fc9245b8588>)"
      ]
     },
     "execution_count": 164,
     "metadata": {},
     "output_type": "execute_result"
    }
   ],
   "source": [
    "y.requires_grad, y.grad, y.grad_fn"
   ]
  },
  {
   "cell_type": "code",
   "execution_count": 169,
   "metadata": {},
   "outputs": [],
   "source": [
    "z = y * y * 3\n",
    "out = z.mean()"
   ]
  },
  {
   "cell_type": "code",
   "execution_count": 170,
   "metadata": {},
   "outputs": [
    {
     "data": {
      "text/plain": [
       "tensor([[27., 27.],\n",
       "        [27., 27.]], grad_fn=<MulBackward>)"
      ]
     },
     "execution_count": 170,
     "metadata": {},
     "output_type": "execute_result"
    }
   ],
   "source": [
    "z"
   ]
  },
  {
   "cell_type": "code",
   "execution_count": 171,
   "metadata": {},
   "outputs": [
    {
     "data": {
      "text/plain": [
       "tensor(27., grad_fn=<MeanBackward1>)"
      ]
     },
     "execution_count": 171,
     "metadata": {},
     "output_type": "execute_result"
    }
   ],
   "source": [
    "out"
   ]
  },
  {
   "cell_type": "markdown",
   "metadata": {},
   "source": [
    "O que aconteceu aqui?\n",
    "\n",
    "    x = 1\n",
    "    y = 1 + 2 = 3\n",
    "    z = 3 * 3 * 3 = 27\n",
    "    out = (27+27) / 2 = 27"
   ]
  },
  {
   "cell_type": "markdown",
   "metadata": {},
   "source": [
    "#### Bora ver esses gradientes"
   ]
  },
  {
   "cell_type": "code",
   "execution_count": 172,
   "metadata": {},
   "outputs": [],
   "source": [
    "out.backward()"
   ]
  },
  {
   "cell_type": "code",
   "execution_count": 174,
   "metadata": {},
   "outputs": [
    {
     "data": {
      "text/plain": [
       "tensor([[4.5000, 4.5000],\n",
       "        [4.5000, 4.5000]])"
      ]
     },
     "execution_count": 174,
     "metadata": {},
     "output_type": "execute_result"
    }
   ],
   "source": [
    "x.grad"
   ]
  },
  {
   "cell_type": "markdown",
   "metadata": {},
   "source": [
    "O que aconteceu aqui? Derivada parcial de `out` em relação a `x`. Tchê, derivada de x^2 = 2x, e derivada de 2x = 2, então segue o raciocínio\n",
    "    \n",
    "    ∂out/∂x\n",
    "    out = 1/4 sum z_i\n",
    "    z_i = 3 y_i^2\n",
    "    y_i = x_i + 2\n",
    "    ---\n",
    "    ∂out/∂x = 1/4 sum 3 (x + 2)^2\n",
    "            = 1/4 sum 3 * 2 (x + 2)\n",
    "            = 1/4 sum 6 (x + 2) * 1\n",
    "            = 3/2 sum (x + 2)\n",
    "    ---\n",
    "    x_i.grad = 3/2 * (x_i + 2)\n",
    "             = 3/2 * (1 + 2) \n",
    "             = 3*3/2 \n",
    "             = 4.5"
   ]
  },
  {
   "cell_type": "markdown",
   "metadata": {},
   "source": [
    "## 1.5. Exemplo\n",
    "\n",
    "Implementando um classificador baseado em retas (ou polinômios maiores)!"
   ]
  },
  {
   "cell_type": "markdown",
   "metadata": {},
   "source": [
    "####  Linear Regression problem\n",
    "\n",
    "The goal of linear regression is to fit a line to a set of points"
   ]
  },
  {
   "cell_type": "code",
   "execution_count": 175,
   "metadata": {},
   "outputs": [],
   "source": [
    "def reta(x, a, b):\n",
    "    return a*x + b"
   ]
  },
  {
   "cell_type": "code",
   "execution_count": 368,
   "metadata": {},
   "outputs": [],
   "source": [
    "def gen_linear_fake_data(n, a, b, spred=3):\n",
    "    x = np.random.uniform(0, 1, n) \n",
    "    y = reta(x, a, b) + 0.1 * np.random.normal(0, spred, n)\n",
    "    return x, y\n",
    "\n",
    "def gen_logistic_fake_data(n, a, b, nb_labels=2):\n",
    "    x, y = gen_linear_fake_data(n, a, b, spred=10)\n",
    "    z = reta(x, a, b)\n",
    "    labels = y > z\n",
    "    return x, y, labels"
   ]
  },
  {
   "cell_type": "code",
   "execution_count": 258,
   "metadata": {},
   "outputs": [
    {
     "data": {
      "text/plain": [
       "<matplotlib.collections.PathCollection at 0x7fc91850cc88>"
      ]
     },
     "execution_count": 258,
     "metadata": {},
     "output_type": "execute_result"
    },
    {
     "data": {
      "image/png": "[encoded data removed]",
      "text/plain": [
       "<Figure size 432x288 with 1 Axes>"
      ]
     },
     "metadata": {
      "needs_background": "light"
     },
     "output_type": "display_data"
    }
   ],
   "source": [
    "x, y = gen_linear_fake_data(80, 3, 8)\n",
    "plt.scatter(x, y)"
   ]
  },
  {
   "cell_type": "code",
   "execution_count": 251,
   "metadata": {},
   "outputs": [],
   "source": [
    "def mse(y_hat, y): \n",
    "    return np.mean(np.power(y_hat - y, 2))"
   ]
  },
  {
   "cell_type": "code",
   "execution_count": 287,
   "metadata": {},
   "outputs": [],
   "source": [
    "y_hat = reta(x, 10, 6)"
   ]
  },
  {
   "cell_type": "code",
   "execution_count": 309,
   "metadata": {},
   "outputs": [
    {
     "data": {
      "text/plain": [
       "(5.4626237961192405, 0.08296906895107199)"
      ]
     },
     "execution_count": 309,
     "metadata": {},
     "output_type": "execute_result"
    }
   ],
   "source": [
    "mse(y_hat, y), mse(reta(x, 3, 8), y)"
   ]
  },
  {
   "cell_type": "code",
   "execution_count": 291,
   "metadata": {},
   "outputs": [
    {
     "data": {
      "text/plain": [
       "[<matplotlib.lines.Line2D at 0x7fc913c1eb70>]"
      ]
     },
     "execution_count": 291,
     "metadata": {},
     "output_type": "execute_result"
    },
    {
     "data": {
      "image/png": "[encoded data removed]",
      "text/plain": [
       "<Figure size 432x288 with 1 Axes>"
      ]
     },
     "metadata": {
      "needs_background": "light"
     },
     "output_type": "display_data"
    }
   ],
   "source": [
    "plt.scatter(x, y)\n",
    "plt.plot(x, y_hat, '-', color='red')\n",
    "plt.plot(x, reta(x, 3, 8), '-', color='black')"
   ]
  },
  {
   "cell_type": "code",
   "execution_count": 302,
   "metadata": {},
   "outputs": [
    {
     "data": {
      "text/plain": [
       "(tensor([0.1705, 0.3868, 0.7344, 0.5452, 0.6306, 0.9104, 0.7285, 0.7157, 0.5976,\n",
       "         0.3220, 0.5220, 0.8306, 0.8185, 0.1188, 0.3220, 0.2269, 0.6203, 0.3486,\n",
       "         0.9467, 0.7467, 0.4189, 0.6639, 0.3106, 0.0962, 0.9575, 0.3562, 0.5724,\n",
       "         0.3990, 0.8902, 0.9113, 0.6394, 0.1962, 0.3991, 0.1499, 0.5754, 0.6033,\n",
       "         0.0669, 0.5643, 0.1460, 0.9872, 0.2073, 0.4269, 0.1709, 0.3668, 0.7422,\n",
       "         0.4160, 0.7349, 0.1625, 0.2439, 0.3792, 0.4930, 0.1940, 0.8497, 0.0102,\n",
       "         0.0505, 0.1328, 0.2337, 0.6640, 0.5923, 0.2163, 0.9136, 0.6394, 0.7570,\n",
       "         0.7973, 0.5355, 0.6310, 0.3595, 0.4939, 0.7259, 0.7672, 0.1100, 0.1675,\n",
       "         0.7778, 0.8554, 0.0510, 0.2857, 0.5140, 0.0765, 0.1730, 0.0253]),\n",
       " tensor([ 8.8390,  9.5279, 10.6518,  9.7722,  9.8184, 10.8848, 10.1502,  9.7217,\n",
       "          9.7233,  8.7718,  9.3695, 10.3570, 10.8538,  8.7770,  9.3205,  8.3534,\n",
       "          9.5427,  9.6232, 11.0295, 10.2247,  9.6183, 10.1494,  9.0762,  8.6667,\n",
       "         10.8135,  9.3782,  9.7466,  9.0962, 10.9927, 10.9962, 10.2877,  8.6218,\n",
       "          8.9767,  8.4882,  9.5757, 10.2085,  8.0589,  9.2462,  8.4318, 11.1052,\n",
       "          8.3582,  9.0560,  8.8524,  9.3219, 10.1343,  9.7656, 10.2730,  8.2719,\n",
       "          9.0293,  8.8342,  9.5387,  8.4666, 10.2260,  7.6641,  8.0676,  8.2439,\n",
       "          8.8190, 10.1152,  9.6468,  8.7183, 10.9998, 10.2768, 10.2104,  9.5741,\n",
       "          9.8451, 10.1111,  8.8372,  9.8674, 10.4935,  9.4562,  8.3932,  8.6769,\n",
       "         10.1983, 10.7309,  8.2237,  8.9154,  9.8247,  7.8936,  8.0616,  8.0747]),\n",
       " tensor([1.4501], requires_grad=True),\n",
       " tensor([-0.0908], requires_grad=True))"
      ]
     },
     "execution_count": 302,
     "metadata": {},
     "output_type": "execute_result"
    }
   ],
   "source": [
    "X = torch.from_numpy(x.astype('f'))\n",
    "Y = torch.from_numpy(y.astype('f'))\n",
    "X.requires_grad_=True\n",
    "Y.requires_grad_=True"
   ]
  },
  {
   "cell_type": "code",
   "execution_count": 325,
   "metadata": {},
   "outputs": [
    {
     "name": "stdout",
     "output_type": "stream",
     "text": [
      "Loss: 76.21403503417969\n",
      "Loss: 46.12757110595703\n",
      "Loss: 27.93123435974121\n",
      "Loss: 16.926067352294922\n",
      "Loss: 10.270103454589844\n",
      "Loss: 6.244556427001953\n",
      "Loss: 3.8098788261413574\n",
      "Loss: 2.337364912033081\n",
      "Loss: 1.44676673412323\n",
      "Loss: 0.908112645149231\n",
      "Loss: 0.6080296039581299\n"
     ]
    },
    {
     "data": {
      "image/png": "[encoded data removed]",
      "text/plain": [
       "<Figure size 432x288 with 1 Axes>"
      ]
     },
     "metadata": {
      "needs_background": "light"
     },
     "output_type": "display_data"
    }
   ],
   "source": [
    "w_a = torch.randn(1, requires_grad=True)\n",
    "w_b = torch.randn(1, requires_grad=True)\n",
    "nb_epochs = 100\n",
    "learning_rate = 0.01\n",
    "loss_mse = lambda y_hat, y: torch.mean(torch.pow(y_hat - y, 2))\n",
    "for e in range(nb_epochs):\n",
    "\n",
    "    pred = reta(X, w_a, w_b)  # minha rede neural é uma reta! :-)\n",
    "    loss = loss_mse(pred, Y)\n",
    "    if e % 10 == 0:\n",
    "        print('Loss: {}'.format(loss.item()))\n",
    "    \n",
    "    # Computes the gradient of loss with respect to all Variables with requires_grad=True.\n",
    "    # After this call a.grad and b.grad will be Variables holding the gradient\n",
    "    # of the loss with respect to a and b respectively\n",
    "    loss.backward()\n",
    "    \n",
    "    # Update a and b using gradient descent; a.data and b.data are Tensors,\n",
    "    # a.grad and b.grad are Variables and a.grad.data and b.grad.data are Tensors\n",
    "    w_a.data -= learning_rate * w_a.grad.data\n",
    "    w_b.data -= learning_rate * w_b.grad.data\n",
    "    \n",
    "    # Reset the gradients\n",
    "    w_a.grad.data.zero_()\n",
    "    w_b.grad.data.zero_()\n",
    "print('Loss: {}'.format(loss.item()))\n",
    "\n",
    "with torch.no_grad():\n",
    "    plt.scatter(x, y)\n",
    "    pred = reta(X, w_a, w_b)\n",
    "    plt.plot(x, pred.detach().numpy(), '-', color='red')"
   ]
  },
  {
   "cell_type": "markdown",
   "metadata": {},
   "source": [
    "Tenta rodar de novo mas aumentando a taxa de aprendizado (tipo 1 ou 0.1). Tenta também aumentar o númeor de épocas!\n",
    "\n",
    "Bora ver se essa ideia de ficar ajustando a reta funciona também pra classificação. Mas pra classificação vamos usar outra função de custo chamada de cross-entropy"
   ]
  },
  {
   "cell_type": "code",
   "execution_count": 488,
   "metadata": {},
   "outputs": [
    {
     "data": {
      "text/plain": [
       "<matplotlib.legend.Legend at 0x7fc9120169e8>"
      ]
     },
     "execution_count": 488,
     "metadata": {},
     "output_type": "execute_result"
    },
    {
     "data": {
      "image/png": "[encoded data removed]",
      "text/plain": [
       "<Figure size 432x288 with 1 Axes>"
      ]
     },
     "metadata": {
      "needs_background": "light"
     },
     "output_type": "display_data"
    }
   ],
   "source": [
    "x, y, labels = gen_logistic_fake_data(80, 3, 8, nb_labels=2)\n",
    "neg_idx = np.where(labels == 0)\n",
    "pos_idx = np.where(labels == 1)\n",
    "plt.scatter(x[neg_idx], y[neg_idx], c='blue', label='neg')\n",
    "plt.scatter(x[pos_idx], y[pos_idx], c='red', label='pos')\n",
    "plt.legend()"
   ]
  },
  {
   "cell_type": "code",
   "execution_count": 489,
   "metadata": {},
   "outputs": [],
   "source": [
    "def cross_entropy(y_hat, y): \n",
    "    return (y*y_hat.log() + (1-y)*(1-y_hat).log()).mean()\n",
    "\n",
    "def ce_numpy(y_hat, y): \n",
    "    return -(y*np.log(y_hat) + (1-y)*np.log(1-y_hat)).mean()"
   ]
  },
  {
   "cell_type": "code",
   "execution_count": 490,
   "metadata": {},
   "outputs": [],
   "source": [
    "y_hat = reta(x, 10, 6)"
   ]
  },
  {
   "cell_type": "code",
   "execution_count": 491,
   "metadata": {},
   "outputs": [],
   "source": [
    "sigmoid = lambda y_hat: 1/(1+np.exp(y_hat))"
   ]
  },
  {
   "cell_type": "code",
   "execution_count": 492,
   "metadata": {},
   "outputs": [
    {
     "data": {
      "text/plain": [
       "(0.5497565177634265, 0.5498896821625046)"
      ]
     },
     "execution_count": 492,
     "metadata": {},
     "output_type": "execute_result"
    }
   ],
   "source": [
    "mse(sigmoid(y_hat), labels), mse(sigmoid(reta(x, 3, 8)), labels)"
   ]
  },
  {
   "cell_type": "code",
   "execution_count": 493,
   "metadata": {},
   "outputs": [
    {
     "data": {
      "text/plain": [
       "(6.165214366804001, 5.259598303385225)"
      ]
     },
     "execution_count": 493,
     "metadata": {},
     "output_type": "execute_result"
    }
   ],
   "source": [
    "ce_numpy(sigmoid(y_hat), labels), ce_numpy(sigmoid(reta(x, 3, 8)), labels)"
   ]
  },
  {
   "cell_type": "code",
   "execution_count": 494,
   "metadata": {},
   "outputs": [
    {
     "data": {
      "text/plain": [
       "[<matplotlib.lines.Line2D at 0x7fc911b9cba8>]"
      ]
     },
     "execution_count": 494,
     "metadata": {},
     "output_type": "execute_result"
    },
    {
     "data": {
      "image/png": "[encoded data removed]",
      "text/plain": [
       "<Figure size 432x288 with 1 Axes>"
      ]
     },
     "metadata": {
      "needs_background": "light"
     },
     "output_type": "display_data"
    }
   ],
   "source": [
    "neg_idx = np.where(labels == 0)\n",
    "pos_idx = np.where(labels == 1)\n",
    "plt.scatter(x[neg_idx], y[neg_idx], c='blue', label='neg')\n",
    "plt.scatter(x[pos_idx], y[pos_idx], c='red', label='pos')\n",
    "plt.legend()\n",
    "plt.plot(x, y_hat, '-', color='green')\n",
    "plt.plot(x, reta(x, 3, 8), '-', color='black')"
   ]
  },
  {
   "cell_type": "code",
   "execution_count": 518,
   "metadata": {},
   "outputs": [
    {
     "name": "stdout",
     "output_type": "stream",
     "text": [
      "Loss: 115.20662689208984\n",
      "Loss: 69.29312133789062\n",
      "Loss: 41.90169906616211\n",
      "Loss: 25.558961868286133\n",
      "Loss: 15.806927680969238\n",
      "Loss: 9.986383438110352\n",
      "Loss: 6.511087894439697\n",
      "Loss: 4.434828281402588\n",
      "Loss: 3.193180561065674\n",
      "Loss: 2.449460029602051\n",
      "Loss: 2.0380022525787354\n"
     ]
    },
    {
     "data": {
      "image/png": "[encoded data removed]",
      "text/plain": [
       "<Figure size 432x288 with 1 Axes>"
      ]
     },
     "metadata": {
      "needs_background": "light"
     },
     "output_type": "display_data"
    }
   ],
   "source": [
    "X = torch.from_numpy(x.astype('f'))\n",
    "Y = torch.from_numpy(y.astype('f'))\n",
    "L = torch.from_numpy(labels.astype('f'))\n",
    "X.requires_grad_= True\n",
    "Y.requires_grad_= True\n",
    "\n",
    "neg_idx = np.where(labels == 0)\n",
    "pos_idx = np.where(labels == 1)\n",
    "plt.scatter(x[neg_idx], y[neg_idx], c='blue', label='neg')\n",
    "plt.scatter(x[pos_idx], y[pos_idx], c='red', label='pos')\n",
    "plt.legend()\n",
    "\n",
    "w_a = torch.randn(1, requires_grad=True)\n",
    "w_b = torch.randn(1, requires_grad=True)\n",
    "plt.plot(x, reta(X, w_a, w_b).detach().numpy(), '-', color='green')\n",
    "nb_epochs = 100\n",
    "learning_rate = 0.01\n",
    "loss_ce = lambda y_hat, y: -(y*y_hat.log() + (1-y)*(1-y_hat).log()).mean()\n",
    "\n",
    "for e in range(nb_epochs):\n",
    "    pred = reta(X, w_a, w_b)  # minha rede neural é uma reta! :-)\n",
    "    loss = loss_mse(pred, Y)\n",
    "#     pred = 1 / (1 + pred.exp())\n",
    "#     loss = loss_ce(pred, L)\n",
    "    \n",
    "    if e % 10 == 0:\n",
    "        print('Loss: {}'.format(loss.item()))\n",
    "    \n",
    "    # Computes the gradient of loss with respect to all Variables with requires_grad=True.\n",
    "    # After this call a.grad and b.grad will be Variables holding the gradient\n",
    "    # of the loss with respect to a and b respectively\n",
    "    loss.backward()\n",
    "    \n",
    "    # Update a and b using gradient descent; a.data and b.data are Tensors,\n",
    "    # a.grad and b.grad are Variables and a.grad.data and b.grad.data are Tensors\n",
    "    w_a.data -= learning_rate * w_a.grad.data\n",
    "    w_b.data -= learning_rate * w_b.grad.data\n",
    "    \n",
    "    # Reset the gradients\n",
    "    w_a.grad.data.zero_()\n",
    "    w_b.grad.data.zero_()\n",
    "print('Loss: {}'.format(loss.item()))\n",
    "\n",
    "with torch.no_grad():\n",
    "    pred = reta(X, w_a, w_b)\n",
    "    plt.plot(x, pred.detach().numpy(), '-', color='black')"
   ]
  }
 ],
 "metadata": {
  "kernelspec": {
   "display_name": "Python 3",
   "language": "python",
   "name": "python3"
  },
  "language_info": {
   "codemirror_mode": {
    "name": "ipython",
    "version": 3
   },
   "file_extension": ".py",
   "mimetype": "text/x-python",
   "name": "python",
   "nbconvert_exporter": "python",
   "pygments_lexer": "ipython3",
   "version": "3.6.7"
  }
 },
 "nbformat": 4,
 "nbformat_minor": 2
}
